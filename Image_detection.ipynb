{
  "nbformat": 4,
  "nbformat_minor": 0,
  "metadata": {
    "colab": {
      "provenance": []
    },
    "kernelspec": {
      "name": "python3",
      "display_name": "Python 3"
    },
    "language_info": {
      "name": "python"
    }
  },
  "cells": [
    {
      "cell_type": "code",
      "execution_count": null,
      "metadata": {
        "id": "OO4IL05VZfFZ",
        "colab": {
          "base_uri": "https://localhost:8080/"
        },
        "outputId": "a7844287-5f64-4fc7-be86-1c95d5cb4990"
      },
      "outputs": [
        {
          "output_type": "stream",
          "name": "stdout",
          "text": [
            "Requirement already satisfied: matplotlib in /usr/local/lib/python3.10/dist-packages (3.7.1)\n",
            "Requirement already satisfied: contourpy>=1.0.1 in /usr/local/lib/python3.10/dist-packages (from matplotlib) (1.2.0)\n",
            "Requirement already satisfied: cycler>=0.10 in /usr/local/lib/python3.10/dist-packages (from matplotlib) (0.12.1)\n",
            "Requirement already satisfied: fonttools>=4.22.0 in /usr/local/lib/python3.10/dist-packages (from matplotlib) (4.48.1)\n",
            "Requirement already satisfied: kiwisolver>=1.0.1 in /usr/local/lib/python3.10/dist-packages (from matplotlib) (1.4.5)\n",
            "Requirement already satisfied: numpy>=1.20 in /usr/local/lib/python3.10/dist-packages (from matplotlib) (1.23.5)\n",
            "Requirement already satisfied: packaging>=20.0 in /usr/local/lib/python3.10/dist-packages (from matplotlib) (23.2)\n",
            "Requirement already satisfied: pillow>=6.2.0 in /usr/local/lib/python3.10/dist-packages (from matplotlib) (9.4.0)\n",
            "Requirement already satisfied: pyparsing>=2.3.1 in /usr/local/lib/python3.10/dist-packages (from matplotlib) (3.1.1)\n",
            "Requirement already satisfied: python-dateutil>=2.7 in /usr/local/lib/python3.10/dist-packages (from matplotlib) (2.8.2)\n",
            "Requirement already satisfied: six>=1.5 in /usr/local/lib/python3.10/dist-packages (from python-dateutil>=2.7->matplotlib) (1.16.0)\n"
          ]
        }
      ],
      "source": [
        "pip install matplotlib"
      ]
    },
    {
      "cell_type": "code",
      "source": [
        "from google.colab import drive\n",
        "drive.mount('/content/drive')"
      ],
      "metadata": {
        "colab": {
          "base_uri": "https://localhost:8080/"
        },
        "id": "kj7hNV0kZkrv",
        "outputId": "9a92123f-7292-4939-d2c1-8d97e62d94ae"
      },
      "execution_count": null,
      "outputs": [
        {
          "output_type": "stream",
          "name": "stdout",
          "text": [
            "Mounted at /content/drive\n"
          ]
        }
      ]
    },
    {
      "cell_type": "markdown",
      "source": [
        "# New Section"
      ],
      "metadata": {
        "id": "gyaZMxpyEzjf"
      }
    },
    {
      "cell_type": "code",
      "source": [
        "import numpy as np\n",
        "import tensorflow as tf\n",
        "import matplotlib.pyplot as plt\n",
        "from tensorflow.keras.layers import Conv2D\n",
        "import json\n",
        "from keras.callbacks import History\n"
      ],
      "metadata": {
        "id": "40U1GM2iaLAg"
      },
      "execution_count": null,
      "outputs": []
    },
    {
      "cell_type": "markdown",
      "source": [
        "#Traning Image Processes"
      ],
      "metadata": {
        "id": "s3Z0z0-bEQ4Z"
      }
    },
    {
      "cell_type": "code",
      "source": [
        "traning_set = tf.keras.utils.image_dataset_from_directory(\n",
        "    '/content/drive/MyDrive/test/train',\n",
        "    labels = 'inferred',\n",
        "    label_mode='categorical',\n",
        "    class_names=None,\n",
        "    color_mode='rgb',\n",
        "    batch_size=32,\n",
        "    image_size=(64, 64),\n",
        "    shuffle=True,\n",
        "    seed=None,\n",
        "    validation_split=None,\n",
        "    subset=None,\n",
        "    interpolation='bilinear',\n",
        "    follow_links=False,\n",
        "    crop_to_aspect_ratio=False,\n",
        "                                )\n",
        "\n",
        "tf.keras.utils.image_dataset_from_directory(\n",
        "    '/content/drive/MyDrive/test/train',\n",
        "    labels=\"inferred\",\n",
        "    label_mode=\"categorical\",\n",
        "    class_names=None,\n",
        "    color_mode=\"rgb\",\n",
        "    batch_size=32,\n",
        "    image_size=(64, 64),\n",
        "    shuffle=True,\n",
        "    seed=None,\n",
        "    validation_split=None,\n",
        "    subset=None,\n",
        "    interpolation=\"bilinear\",\n",
        "    follow_links=False,\n",
        "    crop_to_aspect_ratio=False,\n",
        "\n",
        ")"
      ],
      "metadata": {
        "id": "QLTgoF_xcwlg",
        "colab": {
          "base_uri": "https://localhost:8080/"
        },
        "outputId": "d02d5744-44ea-4834-8f4b-f80774d1ba52"
      },
      "execution_count": null,
      "outputs": [
        {
          "output_type": "stream",
          "name": "stdout",
          "text": [
            "Found 3121 files belonging to 36 classes.\n",
            "Found 3121 files belonging to 36 classes.\n"
          ]
        },
        {
          "output_type": "execute_result",
          "data": {
            "text/plain": [
              "<_PrefetchDataset element_spec=(TensorSpec(shape=(None, 64, 64, 3), dtype=tf.float32, name=None), TensorSpec(shape=(None, 36), dtype=tf.float32, name=None))>"
            ]
          },
          "metadata": {},
          "execution_count": 15
        }
      ]
    },
    {
      "cell_type": "markdown",
      "source": [
        "validation image processing"
      ],
      "metadata": {
        "id": "CQuWYkHHJVSn"
      }
    },
    {
      "cell_type": "code",
      "source": [
        "validation_set = tf.keras.utils.image_dataset_from_directory(\n",
        "    '/content/drive/MyDrive/test/validation',\n",
        "    labels=\"inferred\",\n",
        "    label_mode=\"categorical\",\n",
        "    class_names=None,\n",
        "    color_mode=\"rgb\",\n",
        "    batch_size=32,\n",
        "    image_size=(64, 64),\n",
        "    shuffle=True,\n",
        "    seed=None,\n",
        "    validation_split=None,\n",
        "    subset=None,\n",
        "    interpolation=\"bilinear\",\n",
        "    follow_links=False,\n",
        "    crop_to_aspect_ratio=False\n",
        "\n",
        ")"
      ],
      "metadata": {
        "colab": {
          "base_uri": "https://localhost:8080/"
        },
        "id": "zum-FLnEJSzu",
        "outputId": "19fe905f-db25-45d6-de05-7f3f800cb2b5"
      },
      "execution_count": null,
      "outputs": [
        {
          "output_type": "stream",
          "name": "stdout",
          "text": [
            "Found 22 files belonging to 36 classes.\n"
          ]
        }
      ]
    },
    {
      "cell_type": "code",
      "source": [
        "cnn = tf.keras.models.Sequential()"
      ],
      "metadata": {
        "id": "qphEdqFWQfJD"
      },
      "execution_count": null,
      "outputs": []
    },
    {
      "cell_type": "markdown",
      "source": [
        "#Buliding Convolution Layer"
      ],
      "metadata": {
        "id": "Tu7XiYzlRLVx"
      }
    },
    {
      "cell_type": "code",
      "source": [
        "cnn.add(tf.keras.layers.Conv2D(filters=64,kernel_size=3,activation='relu',input_shape=[64,64,3]))\n",
        "cnn.add(tf.keras.layers.MaxPool2D(pool_size=2,strides=2))"
      ],
      "metadata": {
        "id": "eXNxBnCTQpLg"
      },
      "execution_count": null,
      "outputs": []
    },
    {
      "cell_type": "code",
      "source": [
        "cnn.add(tf.keras.layers.Conv2D(filters=64,kernel_size=3,activation='relu'))\n",
        "cnn.add(tf.keras.layers.MaxPool2D(pool_size=2,strides=2))"
      ],
      "metadata": {
        "id": "DIrrRwsBUe7v"
      },
      "execution_count": null,
      "outputs": []
    },
    {
      "cell_type": "code",
      "source": [
        "cnn.add(tf.keras.layers.Dropout(0.5))"
      ],
      "metadata": {
        "id": "VDKWqab4UmRm"
      },
      "execution_count": null,
      "outputs": []
    },
    {
      "cell_type": "code",
      "source": [
        "cnn.add(tf.keras.layers.Flatten())"
      ],
      "metadata": {
        "id": "rYb-OycKU8wA"
      },
      "execution_count": null,
      "outputs": []
    },
    {
      "cell_type": "code",
      "source": [
        "cnn.add(tf.keras.layers.Dense(units=128,activation='relu'))"
      ],
      "metadata": {
        "id": "4Tij-466Vapb"
      },
      "execution_count": null,
      "outputs": []
    },
    {
      "cell_type": "code",
      "source": [
        "#output layers\n",
        "cnn.add(tf.keras.layers.Dense(units=36,activation='softmax'))"
      ],
      "metadata": {
        "id": "BNNyXLk7VzgB"
      },
      "execution_count": null,
      "outputs": []
    },
    {
      "cell_type": "markdown",
      "source": [
        "#compiling and traning phase"
      ],
      "metadata": {
        "id": "TQ8NMWLOb34q"
      }
    },
    {
      "cell_type": "code",
      "source": [
        "cnn.compile(optimizer='rmsprop',loss='categorical_crossentropy',metrics=['accuracy'])"
      ],
      "metadata": {
        "id": "WxNfrFqvb2Kw"
      },
      "execution_count": null,
      "outputs": []
    },
    {
      "cell_type": "code",
      "source": [
        "training_histroy=cnn.fit(x=traning_set,validation_data=validation_set,epochs=30)"
      ],
      "metadata": {
        "colab": {
          "base_uri": "https://localhost:8080/"
        },
        "id": "lSaD0o11dMYZ",
        "outputId": "c1dcedc2-2a88-4971-ced5-e760a131cdee"
      },
      "execution_count": null,
      "outputs": [
        {
          "output_type": "stream",
          "name": "stdout",
          "text": [
            "Epoch 1/30\n",
            "98/98 [==============================] - 109s 1s/step - loss: 3.5787 - accuracy: 0.0282 - val_loss: 3.5289 - val_accuracy: 0.0000e+00\n",
            "Epoch 2/30\n",
            "98/98 [==============================] - 111s 1s/step - loss: 3.5787 - accuracy: 0.0295 - val_loss: 3.5271 - val_accuracy: 0.0000e+00\n",
            "Epoch 3/30\n",
            "98/98 [==============================] - 103s 976ms/step - loss: 3.5788 - accuracy: 0.0311 - val_loss: 3.5270 - val_accuracy: 0.0000e+00\n",
            "Epoch 4/30\n",
            "98/98 [==============================] - 102s 967ms/step - loss: 3.5788 - accuracy: 0.0311 - val_loss: 3.5258 - val_accuracy: 0.0000e+00\n",
            "Epoch 5/30\n",
            "98/98 [==============================] - 103s 971ms/step - loss: 3.5788 - accuracy: 0.0298 - val_loss: 3.5256 - val_accuracy: 0.0000e+00\n",
            "Epoch 6/30\n",
            "98/98 [==============================] - 102s 963ms/step - loss: 3.5787 - accuracy: 0.0295 - val_loss: 3.5272 - val_accuracy: 0.0000e+00\n",
            "Epoch 7/30\n",
            "98/98 [==============================] - 110s 1s/step - loss: 3.5788 - accuracy: 0.0298 - val_loss: 3.5278 - val_accuracy: 0.0000e+00\n",
            "Epoch 8/30\n",
            "98/98 [==============================] - 102s 962ms/step - loss: 3.5788 - accuracy: 0.0298 - val_loss: 3.5288 - val_accuracy: 0.0000e+00\n",
            "Epoch 9/30\n",
            "98/98 [==============================] - 101s 963ms/step - loss: 3.5788 - accuracy: 0.0288 - val_loss: 3.5279 - val_accuracy: 0.0000e+00\n",
            "Epoch 10/30\n",
            "98/98 [==============================] - 101s 948ms/step - loss: 3.5788 - accuracy: 0.0320 - val_loss: 3.5277 - val_accuracy: 0.0000e+00\n",
            "Epoch 11/30\n",
            "98/98 [==============================] - 102s 969ms/step - loss: 3.5788 - accuracy: 0.0320 - val_loss: 3.5258 - val_accuracy: 0.0000e+00\n",
            "Epoch 12/30\n",
            "98/98 [==============================] - 105s 984ms/step - loss: 3.5787 - accuracy: 0.0311 - val_loss: 3.5248 - val_accuracy: 0.0000e+00\n",
            "Epoch 13/30\n",
            "98/98 [==============================] - 102s 969ms/step - loss: 3.5788 - accuracy: 0.0301 - val_loss: 3.5248 - val_accuracy: 0.0000e+00\n",
            "Epoch 14/30\n",
            "98/98 [==============================] - 103s 972ms/step - loss: 3.5788 - accuracy: 0.0288 - val_loss: 3.5286 - val_accuracy: 0.0000e+00\n",
            "Epoch 15/30\n",
            "98/98 [==============================] - 102s 969ms/step - loss: 3.5787 - accuracy: 0.0282 - val_loss: 3.5286 - val_accuracy: 0.0000e+00\n",
            "Epoch 16/30\n",
            "98/98 [==============================] - 102s 963ms/step - loss: 3.5787 - accuracy: 0.0317 - val_loss: 3.5263 - val_accuracy: 0.0000e+00\n",
            "Epoch 17/30\n",
            "98/98 [==============================] - 108s 1s/step - loss: 3.5787 - accuracy: 0.0308 - val_loss: 3.5256 - val_accuracy: 0.0000e+00\n",
            "Epoch 18/30\n",
            "98/98 [==============================] - 102s 973ms/step - loss: 3.5788 - accuracy: 0.0292 - val_loss: 3.5251 - val_accuracy: 0.0000e+00\n",
            "Epoch 19/30\n",
            "98/98 [==============================] - 104s 975ms/step - loss: 3.5788 - accuracy: 0.0279 - val_loss: 3.5251 - val_accuracy: 0.0000e+00\n",
            "Epoch 20/30\n",
            "98/98 [==============================] - 102s 976ms/step - loss: 3.5787 - accuracy: 0.0288 - val_loss: 3.5266 - val_accuracy: 0.0000e+00\n",
            "Epoch 21/30\n",
            "98/98 [==============================] - 108s 1s/step - loss: 3.5787 - accuracy: 0.0308 - val_loss: 3.5251 - val_accuracy: 0.0000e+00\n",
            "Epoch 22/30\n",
            "98/98 [==============================] - 104s 975ms/step - loss: 3.5787 - accuracy: 0.0295 - val_loss: 3.5258 - val_accuracy: 0.0000e+00\n",
            "Epoch 23/30\n",
            "98/98 [==============================] - 101s 956ms/step - loss: 3.5788 - accuracy: 0.0295 - val_loss: 3.5270 - val_accuracy: 0.0000e+00\n",
            "Epoch 24/30\n",
            "98/98 [==============================] - 102s 960ms/step - loss: 3.5787 - accuracy: 0.0317 - val_loss: 3.5257 - val_accuracy: 0.0000e+00\n",
            "Epoch 25/30\n",
            "98/98 [==============================] - 103s 974ms/step - loss: 3.5788 - accuracy: 0.0279 - val_loss: 3.5256 - val_accuracy: 0.0000e+00\n",
            "Epoch 26/30\n",
            "98/98 [==============================] - 102s 970ms/step - loss: 3.5787 - accuracy: 0.0295 - val_loss: 3.5260 - val_accuracy: 0.0000e+00\n",
            "Epoch 27/30\n",
            "98/98 [==============================] - 109s 1s/step - loss: 3.5788 - accuracy: 0.0308 - val_loss: 3.5269 - val_accuracy: 0.0000e+00\n",
            "Epoch 28/30\n",
            "98/98 [==============================] - 103s 973ms/step - loss: 3.5787 - accuracy: 0.0298 - val_loss: 3.5264 - val_accuracy: 0.0000e+00\n",
            "Epoch 29/30\n",
            "98/98 [==============================] - 104s 977ms/step - loss: 3.5787 - accuracy: 0.0311 - val_loss: 3.5276 - val_accuracy: 0.0000e+00\n",
            "Epoch 30/30\n",
            "98/98 [==============================] - 102s 972ms/step - loss: 3.5788 - accuracy: 0.0269 - val_loss: 3.5287 - val_accuracy: 0.0000e+00\n"
          ]
        }
      ]
    },
    {
      "cell_type": "markdown",
      "source": [
        "#saving"
      ],
      "metadata": {
        "id": "tMlYQZbovNvm"
      }
    },
    {
      "cell_type": "code",
      "source": [
        "cnn.save('trained_model.h5')"
      ],
      "metadata": {
        "colab": {
          "base_uri": "https://localhost:8080/"
        },
        "id": "4JVZO5Eavic5",
        "outputId": "bb80d753-2460-4f5a-c606-bd28d8121f07"
      },
      "execution_count": null,
      "outputs": [
        {
          "output_type": "stream",
          "name": "stderr",
          "text": [
            "/usr/local/lib/python3.10/dist-packages/keras/src/engine/training.py:3103: UserWarning: You are saving your model as an HDF5 file via `model.save()`. This file format is considered legacy. We recommend using instead the native Keras format, e.g. `model.save('my_model.keras')`.\n",
            "  saving_api.save_model(\n"
          ]
        }
      ]
    },
    {
      "cell_type": "code",
      "source": [],
      "metadata": {
        "id": "5VXsgnO3CQTG"
      },
      "execution_count": null,
      "outputs": []
    },
    {
      "cell_type": "code",
      "source": [
        "training_histroy = training_histroy.history"
      ],
      "metadata": {
        "id": "hX04Y5NN-j9B"
      },
      "execution_count": null,
      "outputs": []
    },
    {
      "cell_type": "code",
      "source": [
        "import json\n",
        "with open('training_hist.json','w') as f:\n",
        "  json.dump(training_histroy,f)"
      ],
      "metadata": {
        "id": "pSXN5IeX-Rl5"
      },
      "execution_count": null,
      "outputs": []
    },
    {
      "cell_type": "code",
      "source": [
        "print(training_histroy.keys())"
      ],
      "metadata": {
        "colab": {
          "base_uri": "https://localhost:8080/"
        },
        "id": "rYtNYibS_paR",
        "outputId": "e4b16da9-d0bb-4963-f85e-54aa2cc79ce4"
      },
      "execution_count": null,
      "outputs": [
        {
          "output_type": "stream",
          "name": "stdout",
          "text": [
            "dict_keys(['loss', 'accuracy', 'val_loss', 'val_accuracy'])\n"
          ]
        }
      ]
    },
    {
      "cell_type": "markdown",
      "source": [
        "#calculating Accuracy of model"
      ],
      "metadata": {
        "id": "qadX7963Ab3r"
      }
    },
    {
      "cell_type": "code",
      "source": [
        "print(training_histroy)\n"
      ],
      "metadata": {
        "colab": {
          "base_uri": "https://localhost:8080/"
        },
        "id": "zeCoRdUWATe4",
        "outputId": "6f364622-0a6a-4413-b55e-fb72cd2d5a65"
      },
      "execution_count": null,
      "outputs": [
        {
          "output_type": "stream",
          "name": "stdout",
          "text": [
            "{'loss': [3.578742265701294, 3.5787479877471924, 3.578765392303467, 3.5787947177886963, 3.5787527561187744, 3.5787429809570312, 3.578821897506714, 3.5787696838378906, 3.5787501335144043, 3.5787672996520996, 3.5787770748138428, 3.578733205795288, 3.5787620544433594, 3.5787670612335205, 3.5787227153778076, 3.578742265701294, 3.5787148475646973, 3.5787601470947266, 3.5787570476531982, 3.578738212585449, 3.578697919845581, 3.5787363052368164, 3.578761100769043, 3.5787458419799805, 3.578761339187622, 3.5787417888641357, 3.5787971019744873, 3.578745126724243, 3.5787363052368164, 3.578779697418213], 'accuracy': [0.028196090832352638, 0.029477732256054878, 0.03107978217303753, 0.03107978217303753, 0.02979814074933529, 0.029477732256054878, 0.02979814074933529, 0.02979814074933529, 0.028836911544203758, 0.03204101324081421, 0.03204101324081421, 0.03107978217303753, 0.03011855110526085, 0.028836911544203758, 0.028196090832352638, 0.0317206010222435, 0.03075937181711197, 0.029157321900129318, 0.027875680476427078, 0.028836911544203758, 0.03075937181711197, 0.029477732256054878, 0.029477732256054878, 0.0317206010222435, 0.027875680476427078, 0.029477732256054878, 0.03075937181711197, 0.02979814074933529, 0.03107978217303753, 0.026914451271295547], 'val_loss': [3.5288772583007812, 3.527139186859131, 3.5269775390625, 3.5258264541625977, 3.5256409645080566, 3.527177333831787, 3.527787208557129, 3.528843879699707, 3.5279035568237305, 3.527703046798706, 3.5257599353790283, 3.5247955322265625, 3.524766683578491, 3.5285844802856445, 3.5286355018615723, 3.5262818336486816, 3.5256235599517822, 3.5251235961914062, 3.5250937938690186, 3.5266199111938477, 3.5251479148864746, 3.525799036026001, 3.5270135402679443, 3.525707483291626, 3.5256433486938477, 3.52597713470459, 3.526864767074585, 3.526400089263916, 3.5275843143463135, 3.528710126876831], 'val_accuracy': [0.0, 0.0, 0.0, 0.0, 0.0, 0.0, 0.0, 0.0, 0.0, 0.0, 0.0, 0.0, 0.0, 0.0, 0.0, 0.0, 0.0, 0.0, 0.0, 0.0, 0.0, 0.0, 0.0, 0.0, 0.0, 0.0, 0.0, 0.0, 0.0, 0.0]}\n"
          ]
        }
      ]
    },
    {
      "cell_type": "code",
      "source": [
        "val_accuracy = training_histroy['loss']\n"
      ],
      "metadata": {
        "id": "UnqArEw1BCY0"
      },
      "execution_count": null,
      "outputs": []
    },
    {
      "cell_type": "markdown",
      "source": [],
      "metadata": {
        "id": "R6_h1huGeukx"
      }
    },
    {
      "cell_type": "code",
      "source": [
        "epochs=[i for i in range(1,31)]\n",
        "plt.plot(epochs,color='red')\n",
        "plt.xlabel('No of epochs')\n",
        "plt.ylabel('trainig accuracy')\n",
        "\n",
        "plt.show()"
      ],
      "metadata": {
        "colab": {
          "base_uri": "https://localhost:8080/",
          "height": 449
        },
        "id": "5CkmbSfOCTsZ",
        "outputId": "e4af6183-5f17-4528-809e-d1b6961e557e"
      },
      "execution_count": null,
      "outputs": [
        {
          "output_type": "display_data",
          "data": {
            "text/plain": [
              "<Figure size 640x480 with 1 Axes>"
            ],
            "image/png": "[encoded data removed]"
          },
          "metadata": {}
        }
      ]
    },
    {
      "cell_type": "code",
      "source": [
        "plt.plot(epochs, training_histroy['val_accuracy'], color='blue')\n",
        "plt.xlabel('No. of Epochs')\n",
        "plt.ylabel('Validation Accuracy')"
      ],
      "metadata": {
        "colab": {
          "base_uri": "https://localhost:8080/",
          "height": 466
        },
        "id": "aByfwq0JEk25",
        "outputId": "9251bc99-c539-4995-c806-6fb67fc1dc7f"
      },
      "execution_count": null,
      "outputs": [
        {
          "output_type": "execute_result",
          "data": {
            "text/plain": [
              "Text(0, 0.5, 'Validation Accuracy')"
            ]
          },
          "metadata": {},
          "execution_count": 57
        },
        {
          "output_type": "display_data",
          "data": {
            "text/plain": [
              "<Figure size 640x480 with 1 Axes>"
            ],
            "image/png": "[encoded data removed]"
          },
          "metadata": {}
        }
      ]
    }
  ]
}